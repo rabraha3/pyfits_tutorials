{
 "cells": [
  {
   "cell_type": "code",
   "execution_count": 2,
   "metadata": {},
   "outputs": [],
   "source": [
    "import numpy as np\n",
    "import astropy\n",
    "import astropy_healpix\n",
    "\n",
    "import matplotlib.pyplot as plt\n",
    "import aplpy\n",
    "%matplotlib inline"
   ]
  },
  {
   "cell_type": "markdown",
   "metadata": {},
   "source": [
    "# Download the data\n",
    "Here, we need to download the data. It is NOT small -- the HEALPix version of the data is 298 MB. And it is ONLY available via anonymous FTP. Check out:\n",
    "> [Strasbourg Astronomical Data Center](http://cdsarc.u-strasbg.fr/viz-bin/qcat?J/A+A/594/A116#sRM2.7)\n",
    "\n",
    "and click on the `FTP` tab near the top. The files we're interested in are\n",
    "\n",
    "1. nhi_hpx.dat.gz\n",
    "\n",
    "Download it, and unzip it with `gunzip nhi_hpx.dat.gz`."
   ]
  },
  {
   "cell_type": "code",
   "execution_count": null,
   "metadata": {
    "collapsed": true
   },
   "outputs": [],
   "source": []
  },
  {
   "cell_type": "code",
   "execution_count": null,
   "metadata": {
    "collapsed": true
   },
   "outputs": [],
   "source": []
  }
 ],
 "metadata": {
  "kernelspec": {
   "display_name": "Python 3",
   "language": "python",
   "name": "python3"
  },
  "language_info": {
   "codemirror_mode": {
    "name": "ipython",
    "version": 3
   },
   "file_extension": ".py",
   "mimetype": "text/x-python",
   "name": "python",
   "nbconvert_exporter": "python",
   "pygments_lexer": "ipython3",
   "version": "3.6.3"
  }
 },
 "nbformat": 4,
 "nbformat_minor": 2
}
