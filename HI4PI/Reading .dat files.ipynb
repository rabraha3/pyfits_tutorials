{
 "cells": [
  {
   "cell_type": "markdown",
   "metadata": {},
   "source": [
    "# HI4PI\n",
    "First, I wish the data came in as an astronomy-standard FITS format. I really don't know why it isn't . . ."
   ]
  },
  {
   "cell_type": "code",
   "execution_count": 34,
   "metadata": {
    "collapsed": true
   },
   "outputs": [],
   "source": [
    "import numpy as np\n",
    "from astropy.io import fits\n",
    "from astropy.table import Table\n",
    "from matplotlib.colors import LogNorm\n",
    "import astropy_healpix\n",
    "import os\n",
    "import re\n",
    "\n",
    "import matplotlib.pyplot as plt\n",
    "import aplpy\n",
    "%matplotlib inline"
   ]
  },
  {
   "cell_type": "code",
   "execution_count": 12,
   "metadata": {
    "collapsed": true
   },
   "outputs": [],
   "source": [
    "# Class to format output text\n",
    "class color:\n",
    "   PURPLE = '\\033[95m'\n",
    "   CYAN = '\\033[96m'\n",
    "   DARKCYAN = '\\033[36m'\n",
    "   BLUE = '\\033[94m'\n",
    "   GREEN = '\\033[92m'\n",
    "   YELLOW = '\\033[93m'\n",
    "   RED = '\\033[91m'\n",
    "   BOLD = '\\033[1m'\n",
    "   UNDERLINE = '\\033[4m'\n",
    "   END = '\\033[0m'"
   ]
  },
  {
   "cell_type": "markdown",
   "metadata": {},
   "source": [
    "# Download the data\n",
    "Here, we need to download the data. It is NOT small -- the HEALPix version of the data is 298 MB. And it is ONLY available via anonymous FTP. Check out:\n",
    "> [Strasbourg Astronomical Data Center](http://cdsarc.u-strasbg.fr/viz-bin/qcat?J/A+A/594/A116#sRM2.7)\n",
    "\n",
    "and click on the `FTP` tab near the top. The files we're interested in are\n",
    "\n",
    "1. nhi_hpx.dat.gz\n",
    "\n",
    "Download it, and unzip it with `gunzip nhi_hpx.dat.gz`. The file is too big for GitHub to easily handle, so we've included the file names in the .gitignore file -- we have to download it ourselves! Once downloaded and unzipped, place it into this folder."
   ]
  },
  {
   "cell_type": "code",
   "execution_count": 33,
   "metadata": {},
   "outputs": [
    {
     "name": "stdout",
     "output_type": "stream",
     "text": [
      "Do I have the data file? \u001b[91myes\u001b[0m\n",
      "\n",
      "\n"
     ]
    }
   ],
   "source": [
    "# Check whether we have the data in this folder\n",
    "data_file = \"nhi_hpx.dat\"\n",
    "data_file_exist = color.RED + (\"yes\" if data_file in os.listdir('.') else \"no\") + color.END\n",
    "print(f\"Do I have the data file? {data_file_exist}\\n\\n\")\n",
    "if (not data_file in os.listdir('.')):\n",
    "    raise NameError(\"File not found.\")"
   ]
  },
  {
   "cell_type": "markdown",
   "metadata": {},
   "source": [
    "# Explore the data"
   ]
  },
  {
   "cell_type": "markdown",
   "metadata": {},
   "source": [
    "Open up the data. It might take some time, because it has to load the whole thing into RAM, so be patient!"
   ]
  },
  {
   "cell_type": "code",
   "execution_count": 37,
   "metadata": {
    "collapsed": true
   },
   "outputs": [],
   "source": [
    "dat1 = [line.strip() for line in open('nhi_hpx.dat')]"
   ]
  },
  {
   "cell_type": "code",
   "execution_count": 38,
   "metadata": {},
   "outputs": [
    {
     "data": {
      "text/plain": [
       "'0 192.90971  27.13788  45.00000  89.95431   9.17428016208853e+19'"
      ]
     },
     "execution_count": 38,
     "metadata": {},
     "output_type": "execute_result"
    }
   ],
   "source": [
    "dat1[0]"
   ]
  },
  {
   "cell_type": "code",
   "execution_count": 39,
   "metadata": {},
   "outputs": [
    {
     "data": {
      "text/plain": [
       "'12582911  12.84877 -27.17301 315.00000 -89.95431   1.46759390395355e+20'"
      ]
     },
     "execution_count": 39,
     "metadata": {},
     "output_type": "execute_result"
    }
   ],
   "source": [
    "dat1[-1]"
   ]
  },
  {
   "cell_type": "markdown",
   "metadata": {},
   "source": [
    "Now we'll try something else -- we want to remove the whitespace and return a list of numbers within each line"
   ]
  },
  {
   "cell_type": "code",
   "execution_count": 48,
   "metadata": {
    "collapsed": true
   },
   "outputs": [],
   "source": [
    "dat2 = [line.strip().split() for line in open('nhi_hpx.dat')]"
   ]
  },
  {
   "cell_type": "code",
   "execution_count": 49,
   "metadata": {},
   "outputs": [
    {
     "data": {
      "text/plain": [
       "['0', '192.90971', '27.13788', '45.00000', '89.95431', '9.17428016208853e+19']"
      ]
     },
     "execution_count": 49,
     "metadata": {},
     "output_type": "execute_result"
    }
   ],
   "source": [
    "dat2[0]"
   ]
  },
  {
   "cell_type": "markdown",
   "metadata": {},
   "source": [
    "Nice! That's good, and all. But wouldn't it be better if we have separate lists of variables? So when we read that data in, we store the columns, instead of the rows? Of course, what are the column names? Click back to the CDS link, where we downloaded the data file. Buried down within the README is a description of the columns for this file:\n",
    "\n",
    "1. HEALPix index\n",
    "2. Right Ascension (J2000)\n",
    "3. Declination (J2000)\n",
    "4. Galactic Longitude (J2000)\n",
    "5. Galactic Latitude (J2000)\n",
    "6. HI Column Density"
   ]
  },
  {
   "cell_type": "code",
   "execution_count": null,
   "metadata": {
    "collapsed": true
   },
   "outputs": [],
   "source": []
  },
  {
   "cell_type": "code",
   "execution_count": null,
   "metadata": {
    "collapsed": true
   },
   "outputs": [],
   "source": [
    "print(\"Hello\")\n"
   ]
  },
  {
   "cell_type": "code",
   "execution_count": null,
   "metadata": {
    "collapsed": true
   },
   "outputs": [],
   "source": []
  }
 ],
 "metadata": {
  "kernelspec": {
   "display_name": "Python 3",
   "language": "python",
   "name": "python3"
  },
  "language_info": {
   "codemirror_mode": {
    "name": "ipython",
    "version": 3
   },
   "file_extension": ".py",
   "mimetype": "text/x-python",
   "name": "python",
   "nbconvert_exporter": "python",
   "pygments_lexer": "ipython3",
   "version": "3.6.3"
  }
 },
 "nbformat": 4,
 "nbformat_minor": 2
}
